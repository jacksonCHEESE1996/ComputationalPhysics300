{
 "cells": [
  {
   "cell_type": "markdown",
   "metadata": {},
   "source": [
    "##Brian Kerlin\n",
    "#HW 18:Try different minimization methods in scipy on larger systems ($N$ up to 20), and show \n",
    "- 1 the average number of attempts to find the ground state\n",
    "- 2 the time costs\n",
    "\n",
    "\n",
    "### Optional\n",
    "try to improve the code to make it run faster, analyze the most time consuming part and give your solution\n"
   ]
  },
  {
   "cell_type": "code",
   "execution_count": 9,
   "metadata": {},
   "outputs": [],
   "source": [
    "import numpy as np\n",
    "from scipy.spatial.distance import cdist\n",
    "from scipy.optimize import minimize\n",
    "import requests\n",
    "import time\n",
    "import matplotlib.pyplot as plt\n",
    "from numba import jit\n",
    "\n",
    "@jit\n",
    "def get_pos_from_url(address='http://doye.chem.ox.ac.uk/jon/structures/LJ/points/', N=7):\n",
    "    url_address = address + str(N)\n",
    "    data_str = requests.get(url_address).text\n",
    "    return parse_url_text(data_str)    \n",
    "\n",
    "@jit\n",
    "def parse_url_text(data_str):\n",
    "    x_array = []\n",
    "    text = data_str.split('\\n')\n",
    "    for line in text:\n",
    "        [x_array.append(float(i)) for i in line.split()]\n",
    "    return np.array(x_array)\n",
    "\n",
    "@jit\n",
    "def dist(N_atoms):\n",
    "    pos = get_pos_from_url(N = N_atoms)\n",
    "    pos = np.reshape(pos,[N_atoms,3])\n",
    "    #pos = 10*np.random.random(N_atoms*3)\n",
    "    #pos = np.reshape(pos,[N_atoms,3])\n",
    "    distance = cdist(pos,pos,'euclidean')\n",
    "    iu1 = np.triu_indices(N_atoms)\n",
    "    distance = distance[iu1]\n",
    "    index = np.argwhere(distance==0)\n",
    "    distance = np.delete(distance,index)\n",
    "    return distance\n",
    "\n",
    "@jit\n",
    "def LJ(r):\n",
    "    r6 = np.power(r,6)\n",
    "    r12 = np.multiply(r6,r6)\n",
    "    return 4*(1/r12 - 1/r6)\n",
    "\n",
    "@jit\n",
    "def Total_Energy(positions):\n",
    "\n",
    "    E = LJ(positions)\n",
    "    Energy = np.sum(E)\n",
    "    return Energy\n",
    "\n",
    "N_attempts = 50\n",
    "f_values = []\n",
    "x_values = []\n",
    "\n",
    "@jit\n",
    "def ground_state_potential(N_atom):\n",
    "    pos = dist(N_atom)\n",
    "    for i in range(N_attempts):\n",
    "        \n",
    "        res = minimize(Total_Energy, pos, method='CG', tol=1e-4)\n",
    "        f_values.append(res.fun)\n",
    "        x_values.append(res.x)\n",
    "        #if i%10==0:\n",
    "         #   print('step: ', i, '  values:', res.fun)\n",
    "\n",
    "    print('The ground state potential is:  ', min(f_values))\n",
    "    \n",
    "#initial positions of atoms\n",
    "@jit\n",
    "def init_pos(N, L=5):\n",
    "    '''\n",
    "    N = # of atoms\n",
    "    L = a sort of scaling factor for atoms to generate in a bigger area'''\n",
    "    return L*np.random.random_sample((N*3,)) \n",
    "\n",
    "#finding the energy w/ optimization\n",
    "@jit\n",
    "def optim_energy(N, pos, resmethod, N_attempts=300):\n",
    "    energy_val = []\n",
    "    pos_val = []\n",
    "\n",
    "    for i in range(N_attempts):\n",
    "        res = minimize(Total_Energy, pos, method=resmethod, tol=1e-4)\n",
    "        energy_val.append(res.fun)\n",
    "        pos_val.append(res.x)\n",
    "        print('\\r Step: {:d} out of {:d}; values: {:.4f}'.format(i, N_attempts, res.fun), flush=True, end='')\n",
    "    return energy_val, pos_val"
   ]
  },
  {
   "cell_type": "code",
   "execution_count": 10,
   "metadata": {},
   "outputs": [
    {
     "name": "stderr",
     "output_type": "stream",
     "text": [
      "<ipython-input-9-15509fbab6e0>:67: NumbaWarning: \u001b[1m\n",
      "Compilation is falling back to object mode WITH looplifting enabled because Function init_pos failed at nopython mode lowering due to: \u001b[1m\u001b[1mNo definition for lowering np.random.random_sample(tuple(int64 x 1),) -> array(float64, 1d, C)\n",
      "\u001b[1m\n",
      "File \"<ipython-input-9-15509fbab6e0>\", line 72:\u001b[0m\n",
      "\u001b[1mdef init_pos(N, L=5):\n",
      "    <source elided>\n",
      "    L = a sort of scaling factor for atoms to generate in a bigger area'''\n",
      "\u001b[1m    return L*np.random.random_sample((N*3,)) \n",
      "\u001b[0m    \u001b[1m^\u001b[0m\u001b[0m\n",
      "\u001b[0m\n",
      "\u001b[0m\u001b[1m[1] During: lowering \"$0.9 = call $0.4($0.8, func=$0.4, args=[Var($0.8, <ipython-input-9-15509fbab6e0> (72))], kws=(), vararg=None)\" at <ipython-input-9-15509fbab6e0> (72)\u001b[0m\u001b[0m\n",
      "  @jit\n",
      "C:\\ProgramData\\Anaconda\\lib\\site-packages\\numba\\compiler.py:742: NumbaWarning: \u001b[1mFunction \"init_pos\" was compiled in object mode without forceobj=True.\n",
      "\u001b[1m\n",
      "File \"<ipython-input-9-15509fbab6e0>\", line 68:\u001b[0m\n",
      "\u001b[1m@jit\n",
      "\u001b[1mdef init_pos(N, L=5):\n",
      "\u001b[0m\u001b[1m^\u001b[0m\u001b[0m\n",
      "\u001b[0m\n",
      "  self.func_ir.loc))\n",
      "C:\\ProgramData\\Anaconda\\lib\\site-packages\\numba\\compiler.py:751: NumbaDeprecationWarning: \u001b[1m\n",
      "Fall-back from the nopython compilation path to the object mode compilation path has been detected, this is deprecated behaviour.\n",
      "\n",
      "For more information visit http://numba.pydata.org/numba-doc/latest/reference/deprecation.html#deprecation-of-object-mode-fall-back-behaviour-when-using-jit\n",
      "\u001b[1m\n",
      "File \"<ipython-input-9-15509fbab6e0>\", line 68:\u001b[0m\n",
      "\u001b[1m@jit\n",
      "\u001b[1mdef init_pos(N, L=5):\n",
      "\u001b[0m\u001b[1m^\u001b[0m\u001b[0m\n",
      "\u001b[0m\n",
      "  warnings.warn(errors.NumbaDeprecationWarning(msg, self.func_ir.loc))\n",
      "<ipython-input-9-15509fbab6e0>:75: NumbaWarning: \u001b[1m\n",
      "Compilation is falling back to object mode WITH looplifting enabled because Internal error in pre-inference rewriting pass encountered during compilation of function \"optim_energy\" due to: \u001b[1mNumba's print() function implementation does not support keyword arguments.\n",
      "\u001b[1m\n",
      "File \"<ipython-input-9-15509fbab6e0>\", line 84:\u001b[0m\n",
      "\u001b[1mdef optim_energy(N, pos, resmethod, N_attempts=300):\n",
      "    <source elided>\n",
      "        pos_val.append(res.x)\n",
      "\u001b[1m        print('\\r Step: {:d} out of {:d}; values: {:.4f}'.format(i, N_attempts, res.fun), flush=True, end='')\n",
      "\u001b[0m        \u001b[1m^\u001b[0m\u001b[0m\n",
      "\u001b[0m\u001b[0m\n",
      "  @jit\n",
      "<ipython-input-9-15509fbab6e0>:75: NumbaWarning: \u001b[1m\n",
      "Compilation is falling back to object mode WITHOUT looplifting enabled because Function \"optim_energy\" failed type inference due to: \u001b[1m\u001b[1mcannot determine Numba type of <class 'numba.dispatcher.LiftedLoop'>\u001b[0m\n",
      "\u001b[1m\n",
      "File \"<ipython-input-9-15509fbab6e0>\", line 80:\u001b[0m\n",
      "\u001b[1mdef optim_energy(N, pos, resmethod, N_attempts=300):\n",
      "    <source elided>\n",
      "\n",
      "\u001b[1m    for i in range(N_attempts):\n",
      "\u001b[0m    \u001b[1m^\u001b[0m\u001b[0m\n",
      "\u001b[0m\u001b[0m\n",
      "  @jit\n",
      "C:\\ProgramData\\Anaconda\\lib\\site-packages\\numba\\compiler.py:742: NumbaWarning: \u001b[1mFunction \"optim_energy\" was compiled in object mode without forceobj=True, but has lifted loops.\n",
      "\u001b[1m\n",
      "File \"<ipython-input-9-15509fbab6e0>\", line 76:\u001b[0m\n",
      "\u001b[1m@jit\n",
      "\u001b[1mdef optim_energy(N, pos, resmethod, N_attempts=300):\n",
      "\u001b[0m\u001b[1m^\u001b[0m\u001b[0m\n",
      "\u001b[0m\n",
      "  self.func_ir.loc))\n",
      "C:\\ProgramData\\Anaconda\\lib\\site-packages\\numba\\compiler.py:751: NumbaDeprecationWarning: \u001b[1m\n",
      "Fall-back from the nopython compilation path to the object mode compilation path has been detected, this is deprecated behaviour.\n",
      "\n",
      "For more information visit http://numba.pydata.org/numba-doc/latest/reference/deprecation.html#deprecation-of-object-mode-fall-back-behaviour-when-using-jit\n",
      "\u001b[1m\n",
      "File \"<ipython-input-9-15509fbab6e0>\", line 76:\u001b[0m\n",
      "\u001b[1m@jit\n",
      "\u001b[1mdef optim_energy(N, pos, resmethod, N_attempts=300):\n",
      "\u001b[0m\u001b[1m^\u001b[0m\u001b[0m\n",
      "\u001b[0m\n",
      "  warnings.warn(errors.NumbaDeprecationWarning(msg, self.func_ir.loc))\n",
      "<ipython-input-9-15509fbab6e0>:75: NumbaWarning: \u001b[1m\n",
      "Compilation is falling back to object mode WITHOUT looplifting enabled because Function \"optim_energy\" failed type inference due to: \u001b[1mUntyped global name 'minimize':\u001b[0m \u001b[1m\u001b[1mcannot determine Numba type of <class 'function'>\u001b[0m\n",
      "\u001b[1m\n",
      "File \"<ipython-input-9-15509fbab6e0>\", line 81:\u001b[0m\n",
      "\u001b[1mdef optim_energy(N, pos, resmethod, N_attempts=300):\n",
      "    <source elided>\n",
      "    for i in range(N_attempts):\n",
      "\u001b[1m        res = minimize(Total_Energy, pos, method=resmethod, tol=1e-4)\n",
      "\u001b[0m        \u001b[1m^\u001b[0m\u001b[0m\n",
      "\u001b[0m\u001b[0m\n",
      "  @jit\n",
      "C:\\ProgramData\\Anaconda\\lib\\site-packages\\numba\\compiler.py:742: NumbaWarning: \u001b[1mFunction \"optim_energy\" was compiled in object mode without forceobj=True.\n",
      "\u001b[1m\n",
      "File \"<ipython-input-9-15509fbab6e0>\", line 80:\u001b[0m\n",
      "\u001b[1mdef optim_energy(N, pos, resmethod, N_attempts=300):\n",
      "    <source elided>\n",
      "\n",
      "\u001b[1m    for i in range(N_attempts):\n",
      "\u001b[0m    \u001b[1m^\u001b[0m\u001b[0m\n",
      "\u001b[0m\n",
      "  self.func_ir.loc))\n",
      "C:\\ProgramData\\Anaconda\\lib\\site-packages\\numba\\compiler.py:751: NumbaDeprecationWarning: \u001b[1m\n",
      "Fall-back from the nopython compilation path to the object mode compilation path has been detected, this is deprecated behaviour.\n",
      "\n",
      "For more information visit http://numba.pydata.org/numba-doc/latest/reference/deprecation.html#deprecation-of-object-mode-fall-back-behaviour-when-using-jit\n",
      "\u001b[1m\n",
      "File \"<ipython-input-9-15509fbab6e0>\", line 80:\u001b[0m\n",
      "\u001b[1mdef optim_energy(N, pos, resmethod, N_attempts=300):\n",
      "    <source elided>\n",
      "\n",
      "\u001b[1m    for i in range(N_attempts):\n",
      "\u001b[0m    \u001b[1m^\u001b[0m\u001b[0m\n",
      "\u001b[0m\n",
      "  warnings.warn(errors.NumbaDeprecationWarning(msg, self.func_ir.loc))\n"
     ]
    },
    {
     "name": "stdout",
     "output_type": "stream",
     "text": [
      " Step: 299 out of 300; values: -20.8638"
     ]
    },
    {
     "data": {
      "image/png": "[encoded data removed]",
      "text/plain": [
       "<Figure size 432x288 with 1 Axes>"
      ]
     },
     "metadata": {
      "needs_background": "light"
     },
     "output_type": "display_data"
    },
    {
     "name": "stdout",
     "output_type": "stream",
     "text": [
      "global minimum energy: -20.863791713949805   time: 31.398998975753784 sec\n"
     ]
    }
   ],
   "source": [
    "#N=8; ground state energy = -19.821489 eV\n",
    "\n",
    "#pos_check = get_pos_from_url(N=8)\n",
    "pos = init_pos(8)\n",
    "N = 8\n",
    "N_attempts = 300\n",
    "time1 = time.time()\n",
    "energy_val, pos_val = optim_energy(N, pos, resmethod='BFGS')\n",
    "time2 = time.time()\n",
    "dTime = time2 - time1\n",
    "\n",
    "plt.title('LJ cluster: ' + str(N_attempts) + ' runs for N = ' + str(N) +' atoms')\n",
    "plt.hist(energy_val)\n",
    "plt.show()\n",
    "print('global minimum energy:', min(energy_val), '  time:', dTime, 'sec')"
   ]
  },
  {
   "cell_type": "code",
   "execution_count": 11,
   "metadata": {},
   "outputs": [
    {
     "name": "stdout",
     "output_type": "stream",
     "text": [
      " Step: 299 out of 300; values: -26.1175"
     ]
    },
    {
     "data": {
      "image/png": "[encoded data removed]",
      "text/plain": [
       "<Figure size 432x288 with 1 Axes>"
      ]
     },
     "metadata": {
      "needs_background": "light"
     },
     "output_type": "display_data"
    },
    {
     "name": "stdout",
     "output_type": "stream",
     "text": [
      "global minimum energy: -26.11751837646556   time: 36.795007944107056 sec\n"
     ]
    }
   ],
   "source": [
    "#N=13; ground state energy = -44.326801 eV\n",
    "\n",
    "#pos_check = get_pos_from_url(N=13)\n",
    "pos = init_pos(13)\n",
    "N = 13\n",
    "N_attempts = 300\n",
    "time1 = time.time()\n",
    "energy_val, pos_val = optim_energy(N, pos, resmethod='BFGS')\n",
    "time2 = time.time()\n",
    "dTime = time2 - time1\n",
    "\n",
    "plt.title('LJ cluster: ' + str(N_attempts) + ' runs for N = ' + str(N) +' atoms')\n",
    "plt.hist(energy_val)\n",
    "plt.show()\n",
    "print('global minimum energy:', min(energy_val), '  time:', dTime, 'sec')\n",
    "\n",
    "#pos_check gives us -44.3268 eV @ 57.01 sec"
   ]
  },
  {
   "cell_type": "code",
   "execution_count": null,
   "metadata": {},
   "outputs": [],
   "source": []
  }
 ],
 "metadata": {
  "kernelspec": {
   "display_name": "Python 3",
   "language": "python",
   "name": "python3"
  },
  "language_info": {
   "codemirror_mode": {
    "name": "ipython",
    "version": 3
   },
   "file_extension": ".py",
   "mimetype": "text/x-python",
   "name": "python",
   "nbconvert_exporter": "python",
   "pygments_lexer": "ipython3",
   "version": "3.7.4"
  },
  "vp": {
   "base_numbering": 1,
   "nav_menu": {},
   "number_sections": true,
   "sideBar": true,
   "title_cell": "VisualPython",
   "title_sidebar": "VisualPython",
   "vpPosition": {
    "height": "calc(100% - 180px)",
    "right": "10px",
    "top": "110px",
    "width": "50%"
   },
   "vp_cell": false,
   "vp_section_display": true,
   "vp_window_display": false
  }
 },
 "nbformat": 4,
 "nbformat_minor": 2
}
