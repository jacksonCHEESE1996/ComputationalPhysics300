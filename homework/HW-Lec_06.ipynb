{
 "cells": [
  {
   "cell_type": "code",
   "execution_count": 16,
   "metadata": {},
   "outputs": [
    {
     "data": {
      "text/plain": [
       "<matplotlib.collections.PathCollection at 0x22d5a021e48>"
      ]
     },
     "execution_count": 16,
     "metadata": {},
     "output_type": "execute_result"
    },
    {
     "data": {
      "image/png": "[encoded data removed]",
      "text/plain": [
       "<Figure size 432x288 with 1 Axes>"
      ]
     },
     "metadata": {
      "needs_background": "light"
     },
     "output_type": "display_data"
    }
   ],
   "source": [
    "from scipy.integrate import quad\n",
    "import numpy as np\n",
    "import matplotlib.pyplot as plt\n",
    "\n",
    "\n",
    "\n",
    "#constants\n",
    "p = 6.022*10**28 # density - atoms/m^3\n",
    "theta_deb = 428  #K\n",
    "V_cm = 1000 #cm^3\n",
    "V_m = V_cm*10**-6\n",
    "k_b = 1.38064852*10**-23 #m2 kg s-2 K-1\n",
    "mw_Al = 0.026982   #kg/mol\n",
    "\n",
    "#integral\n",
    "integrand = lambda x: (x**4*np.exp(x))/((np.exp(x)-1)**2)\n",
    "\n",
    "\n",
    "def debye(T_low,T_high):\n",
    "    \n",
    "    C_v_set = [] #empty set for plot\n",
    "    \n",
    "    for T in np.linspace(T_low,T_high,2000):\n",
    "        value_int, error = quad(integrand,0,theta_deb/T)\n",
    "        \n",
    "        C_v = 9*V_m*p*k_b*((T/theta_deb)**3)*value_int\n",
    "        #C_v = C_va*mw_Al\n",
    "        \n",
    "       \n",
    "        C_v_set.append((T,C_v))\n",
    "    \n",
    "    \n",
    "    zip(*C_v_set)\n",
    "    a = plt.scatter(*zip(*C_v_set), c='black',s=1)\n",
    "\n",
    "    \n",
    "    plt.xlabel(\"Temperature (Kelvin)\")\n",
    "    plt.ylabel(\"Cv (J/K) \")\n",
    "    plt.savefig(\"plot_C_V.png\")\n",
    "    \n",
    "    \n",
    "    return a\n",
    "\n",
    "\n",
    "\n",
    "debye(5,500)\n",
    "\n",
    "\n",
    "#b = 9*V_m*p*k_b((T/theta_deb)**3)\n",
    "\n",
    "#def debye():\n",
    "    \n",
    "  #  integrand = (x**4*np.exp(x))/(np.exp(x)-1)**2\n",
    "  #  I = quad(integrand,0,250/theta_deb)\n",
    "   # b = 9*V_m*p*k_b((T/theta_deb)**3)"
   ]
  }
 ],
 "metadata": {
  "kernelspec": {
   "display_name": "Python 3",
   "language": "python",
   "name": "python3"
  },
  "language_info": {
   "codemirror_mode": {
    "name": "ipython",
    "version": 3
   },
   "file_extension": ".py",
   "mimetype": "text/x-python",
   "name": "python",
   "nbconvert_exporter": "python",
   "pygments_lexer": "ipython3",
   "version": "3.7.4"
  }
 },
 "nbformat": 4,
 "nbformat_minor": 2
}
