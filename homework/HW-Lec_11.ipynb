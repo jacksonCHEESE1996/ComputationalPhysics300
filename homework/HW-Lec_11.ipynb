{
 "cells": [
  {
   "cell_type": "code",
   "execution_count": 19,
   "metadata": {},
   "outputs": [
    {
     "data": {
      "image/png": "[encoded data removed]",
      "text/plain": [
       "<Figure size 432x288 with 1 Axes>"
      ]
     },
     "metadata": {
      "needs_background": "light"
     },
     "output_type": "display_data"
    },
    {
     "data": {
      "text/plain": [
       "0.95918"
      ]
     },
     "execution_count": 19,
     "metadata": {},
     "output_type": "execute_result"
    }
   ],
   "source": [
    "%matplotlib inline  \n",
    "#Brian Kerlin\n",
    "#10/4/2021\n",
    "#HW - Lecture 11\n",
    "\n",
    "# plot Gaussian distribution 1-d\n",
    "\n",
    "import matplotlib.pyplot as plt\n",
    "import numpy as np\n",
    "import statistics \n",
    "from random import random\n",
    "\n",
    "\n",
    "\n",
    "#plot of integral\n",
    "\n",
    "fig1 = plt.figure()\n",
    "ax1 = fig1.add_subplot(111, aspect='equal')\n",
    "\n",
    "x1 = np.linspace(0,2,100)\n",
    "y1 = np.sqrt(1-(x1-1)**2) #semiCircle\n",
    "ax1.plot(x1,y1,'k')\n",
    "\n",
    "y2 = 2-np.sqrt(4-x1**2)\n",
    "ax1.plot(x1,y2,'k')\n",
    "\n",
    "ax1.set_xlim(0,2)\n",
    "ax1.set_ylim(0,2)\n",
    "ax1.fill_between(x1, y1, y2, where=y1>y2, facecolor='green')\n",
    "\n",
    "plt.show()\n",
    "#plt.savefig('MC1.png')\n",
    "\n",
    "\n",
    "\n",
    "\n",
    "#Finding intergral via random points\n",
    "\n",
    "\n",
    "#define both functions\n",
    "def f(x):\n",
    "    return np.sqrt(1-(x-1)**2)\n",
    "\n",
    "def g(x):\n",
    "    return 2-np.sqrt(4-x**2)\n",
    "\n",
    "def in_between(N):\n",
    "    count = 0\n",
    "    for i in range(N):\n",
    "        x = 2*random()\n",
    "        y = random()\n",
    "        if g(x)<y<f(x):\n",
    "            count += 1\n",
    "    I = 2*count/N\n",
    "    return I\n",
    "\n",
    "\n",
    "\n",
    "in_between(100000)\n",
    "\n",
    "\n"
   ]
  },
  {
   "cell_type": "code",
   "execution_count": 6,
   "metadata": {},
   "outputs": [
    {
     "data": {
      "text/plain": [
       "(0.9616698, 1.01000444040404e-05)"
      ]
     },
     "execution_count": 6,
     "metadata": {},
     "output_type": "execute_result"
    }
   ],
   "source": [
    "#variance calculations\n",
    "\n",
    "import matplotlib.pyplot as plt\n",
    "import numpy as np\n",
    "import statistics \n",
    "from random import random\n",
    "\n",
    "\n",
    "\n",
    "#define both functions\n",
    "def f(x):\n",
    "    return np.sqrt(1-(x-1)**2)\n",
    "\n",
    "def g(x):\n",
    "    return 2-np.sqrt(4-x**2)\n",
    "\n",
    "def in_between(N):\n",
    "    count = 0\n",
    "    for i in range(N):\n",
    "        x = 2*random()\n",
    "        y = random()\n",
    "        if g(x)<y<f(x):\n",
    "            count += 1\n",
    "    I = 2*count/N\n",
    "    return I\n",
    "\n",
    "def variance_int(N,n):\n",
    "    \"N = number of random points\"\n",
    "    \"n = number of times the calculation is performed\"\n",
    "    \n",
    "    integrals = []\n",
    "\n",
    "    for i in list(range(n)):\n",
    "        integrals.append(in_between(N))\n",
    "        \n",
    "    average = statistics.mean(integrals) \n",
    "    variance = statistics.variance(integrals)\n",
    "        \n",
    "    return average, variance\n",
    "\n",
    "variance_int(100000,100)\n",
    "    \n",
    "    \n",
    "    "
   ]
  },
  {
   "cell_type": "code",
   "execution_count": null,
   "metadata": {},
   "outputs": [],
   "source": []
  }
 ],
 "metadata": {
  "kernelspec": {
   "display_name": "Python 3",
   "language": "python",
   "name": "python3"
  },
  "language_info": {
   "codemirror_mode": {
    "name": "ipython",
    "version": 3
   },
   "file_extension": ".py",
   "mimetype": "text/x-python",
   "name": "python",
   "nbconvert_exporter": "python",
   "pygments_lexer": "ipython3",
   "version": "3.7.4"
  }
 },
 "nbformat": 4,
 "nbformat_minor": 2
}
