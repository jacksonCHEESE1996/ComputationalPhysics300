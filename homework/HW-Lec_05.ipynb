{
 "cells": [
  {
   "cell_type": "code",
   "execution_count": 6,
   "metadata": {},
   "outputs": [
    {
     "data": {
      "image/png": "[encoded data removed]",
      "text/plain": [
       "<Figure size 432x288 with 1 Axes>"
      ]
     },
     "metadata": {
      "needs_background": "light"
     },
     "output_type": "display_data"
    },
    {
     "data": {
      "text/plain": [
       "2.666666666666667"
      ]
     },
     "execution_count": 6,
     "metadata": {},
     "output_type": "execute_result"
    }
   ],
   "source": [
    "\"\"\"\n",
    "Created on Thu Sep  9 00:17:23 2021\n",
    "\n",
    "@author: Brian Kerlin\n",
    "\"\"\"\n",
    "\n",
    "import numpy as np\n",
    "import matplotlib.pyplot as plt\n",
    "\n",
    "def simp(start, end, parts, plot=1):\n",
    "    \"\"\"\n",
    "    simpsons rule\n",
    "    \n",
    "    \"\"\"\n",
    "    #define the function\n",
    "    f = lambda x: x * x  \n",
    "    \n",
    "    #define the X, Y points \n",
    "    deltax = (end - start) / parts\n",
    "    #print(deltax)\n",
    "    resultsx = np.linspace(start, end, parts+1)\n",
    "    #print(resultsx)\n",
    "    resultsy = f(resultsx)\n",
    "    #print(resultsy)\n",
    "    # To calculate the area\n",
    "    area = np.empty([parts+1], float)\n",
    "    for i in range(parts+1):\n",
    "        if i == 0 or i == parts:\n",
    "            coef = 1/3\n",
    "        elif i%2 == 1:\n",
    "            coef = 4/3\n",
    "        else: \n",
    "            coef = 2/3\n",
    "        area[i] = coef*resultsy[i]*deltax\n",
    "        #print(resultsx[i], resultsy[i], coef\n",
    "    if plot==1:\n",
    "\n",
    "  #  area_tot = 0\n",
    "   # for i in range(parts+1):\n",
    "#        if i % 2 ==1:\n",
    " #           area_tot = area_tot + (4/3)*deltax*resultsy[i]\n",
    "  #          print(resultsy[i])\n",
    "   #         print(1)\n",
    "    #        print(i)\n",
    "     #   elif i == 0 or i==parts :\n",
    "      #      area_tot = area_tot + (1/3)*deltax*4*resultsy[i]\n",
    "      #      print(resultsy[i])\n",
    "      #      print(2)\n",
    "       #     print(i)\n",
    "      #  else:\n",
    "       #     area_tot = area_tot +  (2/3)*deltax*resultsy[i]\n",
    "        #    print(resultsy[i])\n",
    "         #   print(3)\n",
    "          #  print(i)\n",
    "\n",
    "\n",
    "  \n",
    "   # print(\"The Sum of the area is: \", area_tot)\n",
    "   # print(area_tot)\n",
    "    # By default, we also output the plot.\n",
    "    \n",
    "    \n",
    "        # To calculate the area\n",
    "    \n",
    "\n",
    "        x = np.linspace(start,end,100)\n",
    "        y = f(x)        \n",
    "        plt.plot(x, y, 'r')\n",
    "        plt.xlim([start,end])\n",
    "        \n",
    "        y2 = np.array([0,0])\n",
    "        for i in range(parts):\n",
    "            x0 = resultsx[i:i+2]\n",
    "            y1 = resultsy[i:i+2]\n",
    "            plt.fill_between(x0, y1, y2, where=y1>=y2, facecolor='blue')\n",
    "            linex, liney = [resultsx[i+1], resultsx[i+1]], [0, resultsy[i+1]]\n",
    "            plt.plot(linex, liney, color='black', linewidth=2.0)        \n",
    "        \n",
    "        plt.show()\n",
    "    \n",
    "    return sum(area)\n",
    "\n",
    "simp(0,2,10)"
   ]
  },
  {
   "cell_type": "code",
   "execution_count": null,
   "metadata": {},
   "outputs": [],
   "source": []
  }
 ],
 "metadata": {
  "kernelspec": {
   "display_name": "Python 3",
   "language": "python",
   "name": "python3"
  },
  "language_info": {
   "codemirror_mode": {
    "name": "ipython",
    "version": 3
   },
   "file_extension": ".py",
   "mimetype": "text/x-python",
   "name": "python",
   "nbconvert_exporter": "python",
   "pygments_lexer": "ipython3",
   "version": "3.7.4"
  }
 },
 "nbformat": 4,
 "nbformat_minor": 2
}
