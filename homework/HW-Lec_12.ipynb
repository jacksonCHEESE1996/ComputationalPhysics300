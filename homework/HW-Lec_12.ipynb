{
 "cells": [
  {
   "cell_type": "code",
   "execution_count": 3,
   "metadata": {},
   "outputs": [
    {
     "name": "stderr",
     "output_type": "stream",
     "text": [
      "C:\\ProgramData\\Anaconda\\lib\\site-packages\\ipykernel_launcher.py:12: RuntimeWarning: divide by zero encountered in true_divide\n",
      "  if sys.path[0] == '':\n"
     ]
    },
    {
     "data": {
      "image/png": "[encoded data removed]",
      "text/plain": [
       "<Figure size 432x288 with 1 Axes>"
      ]
     },
     "metadata": {
      "needs_background": "light"
     },
     "output_type": "display_data"
    }
   ],
   "source": [
    "#HW 12 - Brian Kerlin\n",
    "\n",
    "%matplotlib inline  \n",
    "\n",
    "# Divergence problem\n",
    "import matplotlib.pyplot as plt\n",
    "import numpy as np\n",
    "from math import pi\n",
    "#/(np.exp(x)+1)\n",
    "\n",
    "def f(x):\n",
    "    return 1/(x)/(np.exp(x)+1)\n",
    "\n",
    "x = np.linspace(0,1,100)\n",
    "plt.plot(x, f(x))\n",
    "plt.show()"
   ]
  },
  {
   "cell_type": "code",
   "execution_count": 4,
   "metadata": {},
   "outputs": [
    {
     "name": "stderr",
     "output_type": "stream",
     "text": [
      "C:\\ProgramData\\Anaconda\\lib\\site-packages\\ipykernel_launcher.py:1: RuntimeWarning: divide by zero encountered in true_divide\n",
      "  \"\"\"Entry point for launching an IPython kernel.\n",
      "C:\\ProgramData\\Anaconda\\lib\\site-packages\\ipykernel_launcher.py:2: RuntimeWarning: divide by zero encountered in true_divide\n",
      "  \n"
     ]
    },
    {
     "data": {
      "image/png": "[encoded data removed]",
      "text/plain": [
       "<Figure size 432x288 with 1 Axes>"
      ]
     },
     "metadata": {
      "needs_background": "light"
     },
     "output_type": "display_data"
    }
   ],
   "source": [
    "f = lambda x: (1/(x))/(np.exp(x)+1)\n",
    "w = lambda x: 1/(x)\n",
    "p = lambda x: 1/(x*np.log(x))\n",
    "\n",
    "x = np.linspace(0,1,100)\n",
    "plt.plot(x, f(x), label='f(x)')\n",
    "plt.plot(x, w(x), label='w(x)')\n",
    "\n",
    "plt.legend()\n",
    "plt.show()"
   ]
  },
  {
   "cell_type": "code",
   "execution_count": 6,
   "metadata": {},
   "outputs": [
    {
     "name": "stdout",
     "output_type": "stream",
     "text": [
      "from scipy:  35.052773709842654\n"
     ]
    }
   ],
   "source": [
    "#integral of w(x) from 0 to 1\n",
    "#have to use a, because as lim as x goes to 0 is infinity\n",
    "\n",
    "\n",
    "from scipy.integrate import quad\n",
    "from math import e\n",
    "\n",
    "\n",
    "a = 5.981e-16 #smallest number allowed in quad\n",
    "print('from scipy: ', quad(w, a, 1)[0])\n"
   ]
  },
  {
   "cell_type": "code",
   "execution_count": 16,
   "metadata": {},
   "outputs": [
    {
     "name": "stdout",
     "output_type": "stream",
     "text": [
      "calculated:  17.28645856630362\n",
      "from scipy:  17.282942557131165\n"
     ]
    },
    {
     "name": "stderr",
     "output_type": "stream",
     "text": [
      "C:\\ProgramData\\Anaconda\\lib\\site-packages\\ipykernel_launcher.py:21: IntegrationWarning: The maximum number of subdivisions (50) has been achieved.\n",
      "  If increasing the limit yields no improvement it is advised to analyze \n",
      "  the integrand in order to determine the difficulties.  If the position of a \n",
      "  local difficulty can be determined (singularity, discontinuity) one will \n",
      "  probably gain from splitting up the interval and calling the integrator \n",
      "  on the subranges.  Perhaps a special-purpose integrator should be used.\n"
     ]
    }
   ],
   "source": [
    "from random import random \n",
    "f = lambda x: (1/(x))/(np.exp(x)+1)       #main function\n",
    "w = lambda x: 1/(x)                       #given weight function\n",
    "c = quad(w, a, 1)[0]                      #integral of w(x) from 0 to 1 needed for probablity function calculation\n",
    "p = lambda x: (1/c)*(1/x)                 #probability function, w(x)/c   \n",
    "F = lambda x: (1/c)*(np.log(x)-np.log(a)) #integral of probability function from 0 to 1\n",
    "inv_F = lambda x: np.exp(c*x+np.log(a))   #inverse above integral\n",
    "\n",
    "def IMC(f, w, inv_f, x_start, x_end, N):\n",
    "    c = quad(w, x_start, x_end)[0]\n",
    "    width = x_end - x_start\n",
    "    \n",
    "    I = 0\n",
    "    for i in range(N):\n",
    "        x = width*random() +x_start     #random x in domain\n",
    "        y = inv_F(x)\n",
    "        I += f(y)/w(y)\n",
    "        \n",
    "    return I/N*c\n",
    "\n",
    "print('calculated: ',IMC(f,w,inv_F,a,1,100000))\n",
    "print('from scipy: ', quad(f, a, 1)[0])"
   ]
  },
  {
   "cell_type": "code",
   "execution_count": null,
   "metadata": {},
   "outputs": [],
   "source": []
  },
  {
   "cell_type": "code",
   "execution_count": null,
   "metadata": {},
   "outputs": [],
   "source": []
  }
 ],
 "metadata": {
  "kernelspec": {
   "display_name": "Python 3",
   "language": "python",
   "name": "python3"
  },
  "language_info": {
   "codemirror_mode": {
    "name": "ipython",
    "version": 3
   },
   "file_extension": ".py",
   "mimetype": "text/x-python",
   "name": "python",
   "nbconvert_exporter": "python",
   "pygments_lexer": "ipython3",
   "version": "3.7.4"
  }
 },
 "nbformat": 4,
 "nbformat_minor": 2
}
