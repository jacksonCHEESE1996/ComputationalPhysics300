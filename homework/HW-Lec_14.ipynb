{
 "cells": [
  {
   "cell_type": "code",
   "execution_count": 1,
   "metadata": {
    "scrolled": true
   },
   "outputs": [
    {
     "data": {
      "text/html": [
       "<div id=\"glowscript\" class=\"glowscript\"></div>"
      ],
      "text/plain": [
       "<IPython.core.display.HTML object>"
      ]
     },
     "metadata": {},
     "output_type": "display_data"
    },
    {
     "data": {
      "application/javascript": [
       "if (typeof Jupyter !== \"undefined\") { window.__context = { glowscript_container: $(\"#glowscript\").removeAttr(\"id\")};}else{ element.textContent = ' ';}"
      ],
      "text/plain": [
       "<IPython.core.display.Javascript object>"
      ]
     },
     "metadata": {},
     "output_type": "display_data"
    },
    {
     "name": "stdout",
     "output_type": "stream",
     "text": [
      "done\n"
     ]
    },
    {
     "data": {
      "application/javascript": [
       "if (typeof Jupyter !== \"undefined\") {require.undef(\"nbextensions/vpython_libraries/glow.min\");}else{element.textContent = ' ';}"
      ],
      "text/plain": [
       "<IPython.core.display.Javascript object>"
      ]
     },
     "metadata": {},
     "output_type": "display_data"
    },
    {
     "data": {
      "application/javascript": [
       "if (typeof Jupyter !== \"undefined\") {require.undef(\"nbextensions/vpython_libraries/glowcomm\");}else{element.textContent = ' ';}"
      ],
      "text/plain": [
       "<IPython.core.display.Javascript object>"
      ]
     },
     "metadata": {},
     "output_type": "display_data"
    },
    {
     "data": {
      "application/javascript": [
       "if (typeof Jupyter !== \"undefined\") {require.undef(\"nbextensions/vpython_libraries/jquery-ui.custom.min\");}else{element.textContent = ' ';}"
      ],
      "text/plain": [
       "<IPython.core.display.Javascript object>"
      ]
     },
     "metadata": {},
     "output_type": "display_data"
    },
    {
     "data": {
      "application/javascript": [
       "if (typeof Jupyter !== \"undefined\") {require([\"nbextensions/vpython_libraries/glow.min\"], function(){console.log(\"GLOW LOADED\");});}else{element.textContent = ' ';}"
      ],
      "text/plain": [
       "<IPython.core.display.Javascript object>"
      ]
     },
     "metadata": {},
     "output_type": "display_data"
    },
    {
     "data": {
      "application/javascript": [
       "if (typeof Jupyter !== \"undefined\") {require([\"nbextensions/vpython_libraries/glowcomm\"], function(){console.log(\"GLOWCOMM LOADED\");});}else{element.textContent = ' ';}"
      ],
      "text/plain": [
       "<IPython.core.display.Javascript object>"
      ]
     },
     "metadata": {},
     "output_type": "display_data"
    },
    {
     "data": {
      "application/javascript": [
       "if (typeof Jupyter !== \"undefined\") {require([\"nbextensions/vpython_libraries/jquery-ui.custom.min\"], function(){console.log(\"JQUERY LOADED\");});}else{element.textContent = ' ';}"
      ],
      "text/plain": [
       "<IPython.core.display.Javascript object>"
      ]
     },
     "metadata": {},
     "output_type": "display_data"
    }
   ],
   "source": [
    "#Brian Kerlin\n",
    "#HW 14.4\n",
    "\n",
    "#part 1 -  Import the visual package in python to make an animation on the screen of the position of the particle in Brownian motion.\n",
    "\n",
    "import numpy as np\n",
    "from vpython import *\n",
    "from numba import jit\n",
    "\n",
    "\n",
    "# init\n",
    "\n",
    "\n",
    "\n",
    "L1 = 51\n",
    "L2 = 51\n",
    "N = 10000\n",
    "\n",
    "\n",
    "position = np.zeros([N,2])\n",
    "position[0,0] = 0 #array([[50., 0.],....[x_i,y_i]\n",
    "position[0,1] = 0 #array([[50., 50.],....[x_i,y_i]\n",
    "\n",
    "direction = np.array([[0,1],[0,-1],[1,0],[-1,0]]) #up, down, right, left\n",
    "\n",
    "\n",
    "ww = range(1,10)\n",
    "\n",
    "#r = vector(position[0,0],position[0,1],0)\n",
    "\n",
    "\n",
    "#ball = sphere(pos = vector(0,0,0),radius = 1, color = color.cyan)\n",
    "#wall1 = box(pos=vector(51,0,0),length=1, height=102, width=1)\n",
    "#wall2 = box(pos=vector(-51,0,0),length=1, height=102, width=1)\n",
    "#wall3 = box(pos=vector(0,51,0),length=102, height=0, width=1)\n",
    "#wall4 = box(pos=vector(0,-51,0),length=102, height=0, width=1)\n",
    "def _main_():\n",
    "    ball = sphere(pos = vector(0,0,0),radius = 1, color = color.cyan)\n",
    "    wall1 = box(pos=vector(51,0,0),length=1, height=102, width=1)\n",
    "    wall2 = box(pos=vector(-51,0,0),length=1, height=102, width=1)\n",
    "    wall3 = box(pos=vector(0,51,0),length=102, height=0, width=1)\n",
    "    wall4 = box(pos=vector(0,-51,0),length=102, height=0, width=1)\n",
    "    r = ball.pos\n",
    "\n",
    "    count = 0\n",
    "    \n",
    "        \n",
    "    for i in range(1,N):\n",
    "        \n",
    "        while count <= N-1:\n",
    "        \n",
    "            \n",
    "            rate(100)\n",
    "        \n",
    "        \n",
    "        \n",
    "            move = np.random.randint(4)\n",
    "        \n",
    "            if move == 0:\n",
    "                if r.y >= L2-1:\n",
    "                    r.y = r.y\n",
    "                    #print('boom')\n",
    "                    #print('r')\n",
    "                    #print(r)\n",
    "                    #print('count')\n",
    "                    #print(count)\n",
    "                    #print('1a')\n",
    "                    \n",
    "                else:\n",
    "                    r.y = r.y + 1\n",
    "                    #print('r')\n",
    "                    #print(r)\n",
    "                    \n",
    "                    count = count + 1\n",
    "                    #print('count')\n",
    "                    #print(count)\n",
    "                    #print('2a')\n",
    "            elif move == 1:\n",
    "                if r.y <= -L2+1:\n",
    "                    #print('boom')\n",
    "                    r.y=r.y\n",
    "                    #print('r')\n",
    "                    #print(r)\n",
    "                    #print('count')\n",
    "                    #print(count)\n",
    "                    #print('3a')\n",
    "                else:\n",
    "                    r.y = r.y - 1\n",
    "                    count = count + 1\n",
    "                    #print('r')\n",
    "                    #print(r)\n",
    "                    #print('count')\n",
    "                    #print(count)\n",
    "                    #print('4a')\n",
    "            elif move == 2:\n",
    "                if r.x >= L1-1:\n",
    "                    #print('boom')\n",
    "                    r.x=r.x\n",
    "                    #print('r')\n",
    "                    #print(r)\n",
    "                    #print('count')\n",
    "                    #print(count)\n",
    "                    #print('5a')\n",
    "                else:\n",
    "                    r.x = r.x + 1\n",
    "                    #count = count + 1\n",
    "                    #print('r')\n",
    "                    #print(r)\n",
    "                    #print('count')\n",
    "                    #print(count)\n",
    "                    \n",
    "                    #print('6a')\n",
    "            elif move == 3:\n",
    "                if r.x <= -L1+1:\n",
    "                    #print('boom')\n",
    "                    r.x=r.x\n",
    "                    #print('r')\n",
    "                    #print(r)\n",
    "                    #print('count')\n",
    "                    #print(count)\n",
    "                    #print('7a')\n",
    "                else:\n",
    "                    r.x = r.x - 1\n",
    "                    count = count + 1\n",
    "                    #print('r')\n",
    "                    #print(r)\n",
    "                   # print('count')\n",
    "                   # print(count)\n",
    "                    #print('8a')\n",
    "            \n",
    "    #count = count + 1\n",
    "\n",
    "#print('done')\n",
    "\n",
    "_main_()\n"
   ]
  },
  {
   "cell_type": "code",
   "execution_count": 5,
   "metadata": {},
   "outputs": [
    {
     "data": {
      "image/png": "[encoded data removed]",
      "text/plain": [
       "<Figure size 432x288 with 1 Axes>"
      ]
     },
     "metadata": {
      "needs_background": "light"
     },
     "output_type": "display_data"
    }
   ],
   "source": [
    "#Brian Kerlin\n",
    "#HW 14.4\n",
    "\n",
    "#part 2 - Rewrite the radioactive decay, to generate 2000 random numbers following the non-uniformed distribution \n",
    "#(This is already a solved problem in the class. However, you are suggested to repeat it by yourself).\n",
    "\n",
    "\n",
    "import numpy as np\n",
    "import matplotlib.pyplot as plt\n",
    "\n",
    "tau_sec = 3.053*60 # seconds\n",
    "N_Tl = 2000 # initial number of thallium atoms\n",
    "N_Pb = 0\n",
    "time = 1000 # seconds\n",
    "t_steps = 1001\n",
    "p = lambda t: 1 - 2**(-t/tau_sec)\n",
    "\n",
    "p_decay = p(1) # prob that a Tl atom decays during a second\n",
    "#print(p_decay)\n",
    "\n",
    "#print(np.linspace(0,time,t_steps))\n",
    "array_Tl = []\n",
    "array_Pb = []\n",
    "\n",
    "for i in np.linspace(0,time,t_steps):\n",
    "    \n",
    "    array_Tl.append(N_Tl)\n",
    "    array_Pb.append(N_Pb)\n",
    "    \n",
    "    new_decay = 0\n",
    "    count = 0\n",
    "    while count < N_Tl:\n",
    "        if np.random.random() < p_decay:\n",
    "            new_decay = new_decay + 1\n",
    "            count = count + 1\n",
    "        else:\n",
    "            count = count + 1\n",
    "            \n",
    "    N_Tl = N_Tl - new_decay\n",
    "    N_Pb = N_Pb + new_decay\n",
    "    \n",
    "\n",
    "plt.plot(range(time+1), array_Tl, label='Tl')\n",
    "plt.plot(range(time+1), array_Pb, label='Pb')\n",
    "plt.xlabel(\"Time\")\n",
    "plt.ylabel(\"Number of atoms\")\n",
    "plt.legend()\n",
    "plt.show()\n",
    "  \n",
    "    \n",
    "        \n",
    "    \n",
    "    \n",
    "    \n",
    "\n",
    "\n"
   ]
  },
  {
   "cell_type": "code",
   "execution_count": null,
   "metadata": {},
   "outputs": [],
   "source": []
  }
 ],
 "metadata": {
  "kernelspec": {
   "display_name": "Python 3",
   "language": "python",
   "name": "python3"
  },
  "language_info": {
   "codemirror_mode": {
    "name": "ipython",
    "version": 3
   },
   "file_extension": ".py",
   "mimetype": "text/x-python",
   "name": "python",
   "nbconvert_exporter": "python",
   "pygments_lexer": "ipython3",
   "version": "3.7.4"
  },
  "vp": {
   "base_numbering": 1,
   "nav_menu": {},
   "number_sections": true,
   "sideBar": true,
   "title_cell": "VisualPython",
   "title_sidebar": "VisualPython",
   "vpPosition": {
    "height": "calc(100% - 180px)",
    "right": "10px",
    "top": "110px",
    "width": "50%"
   },
   "vp_cell": false,
   "vp_section_display": true,
   "vp_window_display": false
  }
 },
 "nbformat": 4,
 "nbformat_minor": 2
}
