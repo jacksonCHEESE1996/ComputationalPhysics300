{
 "cells": [
  {
   "cell_type": "code",
   "execution_count": 3,
   "metadata": {},
   "outputs": [
    {
     "data": {
      "image/png": "[encoded data removed]",
      "text/plain": [
       "<Figure size 432x288 with 1 Axes>"
      ]
     },
     "metadata": {
      "needs_background": "light"
     },
     "output_type": "display_data"
    }
   ],
   "source": [
    "# -*- coding: utf-8 -*-\n",
    "\"\"\"\n",
    "Created on Fri Sep  3 16:52:31 2021\n",
    "\n",
    "@author: Brian Kerlin\n",
    "Homework from lecture 4\n",
    "\n",
    "\n",
    "\"\"\"\n",
    "import numpy as np\n",
    "import matplotlib.pyplot as plt\n",
    "\n",
    "def mandel_check(x,y):\n",
    "    \"Function to check if complex number x+yj is in the mendel set up to 100 iterations\"\n",
    "    \"output will be 1 if in mendel set and 0 if out of set\"\n",
    "    count = 0\n",
    "    z = 0 #starting condition\n",
    "    c = complex(x,y) #create complex number  x+yj\n",
    "    while count < 100:\n",
    "        if abs(z) > 2: \n",
    "            in_set = 0 # if not in mendel set, output zero and end loop\n",
    "            break\n",
    "        else:\n",
    "            z_prime = z**2 + c #mendel set equatipm\n",
    "            z=z_prime \n",
    "            in_set = 1 #1 signifies that it is still in mendel set\n",
    "        \n",
    "        \n",
    "        \n",
    "        count = count +1\n",
    "        #print(c)\n",
    "    return in_set\n",
    "\n",
    "def mandel(N):\n",
    "    \"Function to create list of coordinates for points in mendel set using the mandel_check function.\"\n",
    "    \"N is length of NXN grid, n_coarse is the density of grid\"\n",
    "    n_coarse = 1000\n",
    "    mandel_set = [] # empty list\n",
    "    for x in np.linspace(-N,N,n_coarse): #\n",
    "        for y in np.linspace(-N,N,n_coarse):\n",
    "            mandel_yes_or_no = mandel_check(x,y)\n",
    "            if mandel_yes_or_no == 1: #if in_set then add to list\n",
    "                mandel_set.append((x,y))\n",
    "            else:\n",
    "                continue\n",
    "    return mandel_set\n",
    "    \n",
    "    \n",
    "    \n",
    "\n",
    "def mandel_plot():\n",
    "    N = 2\n",
    "    points = mandel(N)\n",
    "    zip(*points)\n",
    "    plt.scatter(*zip(*points), c='black',s=1)\n",
    "    plt.xlim([-N, N])\n",
    "    plt.ylim([-N, N])\n",
    "\n",
    "    \n",
    "    plt.xlabel(\"Real Part of Complex\")\n",
    "    plt.ylabel(\"Imaginary Part of Complex\")\n",
    "    plt.savefig(\"plot.png\")\n",
    "    plt.show()\n",
    "    \n",
    "mandel_plot()\n",
    "    "
   ]
  },
  {
   "cell_type": "code",
   "execution_count": null,
   "metadata": {},
   "outputs": [],
   "source": []
  }
 ],
 "metadata": {
  "kernelspec": {
   "display_name": "Python 3",
   "language": "python",
   "name": "python3"
  },
  "language_info": {
   "codemirror_mode": {
    "name": "ipython",
    "version": 3
   },
   "file_extension": ".py",
   "mimetype": "text/x-python",
   "name": "python",
   "nbconvert_exporter": "python",
   "pygments_lexer": "ipython3",
   "version": "3.7.4"
  }
 },
 "nbformat": 4,
 "nbformat_minor": 2
}
